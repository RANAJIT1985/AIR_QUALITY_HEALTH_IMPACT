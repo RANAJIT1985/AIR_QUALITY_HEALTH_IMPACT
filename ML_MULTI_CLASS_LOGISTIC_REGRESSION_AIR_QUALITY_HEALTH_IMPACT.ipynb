{
 "cells": [
  {
   "cell_type": "code",
   "execution_count": 1,
   "id": "cc8445d2",
   "metadata": {},
   "outputs": [],
   "source": [
    "import pandas as pd\n",
    "import numpy as np\n",
    "import matplotlib.pyplot as plt\n",
    "import seaborn as sns"
   ]
  },
  {
   "cell_type": "code",
   "execution_count": 2,
   "id": "0bd09999",
   "metadata": {},
   "outputs": [],
   "source": [
    "df = pd.read_csv('AIR_QUALITY.csv')"
   ]
  },
  {
   "cell_type": "code",
   "execution_count": 3,
   "id": "3a8f76af",
   "metadata": {},
   "outputs": [
    {
     "data": {
      "text/plain": [
       "(5811, 15)"
      ]
     },
     "execution_count": 3,
     "metadata": {},
     "output_type": "execute_result"
    }
   ],
   "source": [
    "df.shape"
   ]
  },
  {
   "cell_type": "code",
   "execution_count": 4,
   "id": "870919fb",
   "metadata": {},
   "outputs": [
    {
     "name": "stdout",
     "output_type": "stream",
     "text": [
      "<class 'pandas.core.frame.DataFrame'>\n",
      "RangeIndex: 5811 entries, 0 to 5810\n",
      "Data columns (total 15 columns):\n",
      " #   Column               Non-Null Count  Dtype  \n",
      "---  ------               --------------  -----  \n",
      " 0   RecordID             5811 non-null   int64  \n",
      " 1   AQI                  5811 non-null   float64\n",
      " 2   PM10                 5811 non-null   float64\n",
      " 3   PM2_5                5811 non-null   float64\n",
      " 4   NO2                  5811 non-null   float64\n",
      " 5   SO2                  5811 non-null   float64\n",
      " 6   O3                   5811 non-null   float64\n",
      " 7   Temperature          5811 non-null   float64\n",
      " 8   Humidity             5811 non-null   float64\n",
      " 9   WindSpeed            5811 non-null   float64\n",
      " 10  RespiratoryCases     5811 non-null   int64  \n",
      " 11  CardiovascularCases  5811 non-null   int64  \n",
      " 12  HospitalAdmissions   5811 non-null   int64  \n",
      " 13  HealthImpactScore    5811 non-null   float64\n",
      " 14  HealthImpactClass    5811 non-null   int64  \n",
      "dtypes: float64(10), int64(5)\n",
      "memory usage: 681.1 KB\n"
     ]
    }
   ],
   "source": [
    "df.info()"
   ]
  },
  {
   "cell_type": "code",
   "execution_count": 5,
   "id": "35c1f207",
   "metadata": {},
   "outputs": [
    {
     "data": {
      "text/plain": [
       "HealthImpactClass\n",
       "0    4808\n",
       "1     579\n",
       "2     273\n",
       "3      95\n",
       "4      56\n",
       "Name: count, dtype: int64"
      ]
     },
     "execution_count": 5,
     "metadata": {},
     "output_type": "execute_result"
    }
   ],
   "source": [
    "df['HealthImpactClass'].value_counts()"
   ]
  },
  {
   "cell_type": "code",
   "execution_count": 6,
   "id": "528ea4a2",
   "metadata": {},
   "outputs": [
    {
     "data": {
      "text/plain": [
       "0"
      ]
     },
     "execution_count": 6,
     "metadata": {},
     "output_type": "execute_result"
    }
   ],
   "source": [
    "df.duplicated().sum()"
   ]
  },
  {
   "cell_type": "code",
   "execution_count": 7,
   "id": "b39ed9ec",
   "metadata": {},
   "outputs": [
    {
     "data": {
      "text/plain": [
       "RecordID               0\n",
       "AQI                    0\n",
       "PM10                   0\n",
       "PM2_5                  0\n",
       "NO2                    0\n",
       "SO2                    0\n",
       "O3                     0\n",
       "Temperature            0\n",
       "Humidity               0\n",
       "WindSpeed              0\n",
       "RespiratoryCases       0\n",
       "CardiovascularCases    0\n",
       "HospitalAdmissions     0\n",
       "HealthImpactScore      0\n",
       "HealthImpactClass      0\n",
       "dtype: int64"
      ]
     },
     "execution_count": 7,
     "metadata": {},
     "output_type": "execute_result"
    }
   ],
   "source": [
    "df.isnull().sum()"
   ]
  },
  {
   "cell_type": "code",
   "execution_count": 8,
   "id": "b3b00305",
   "metadata": {},
   "outputs": [
    {
     "data": {
      "text/html": [
       "<div>\n",
       "<style scoped>\n",
       "    .dataframe tbody tr th:only-of-type {\n",
       "        vertical-align: middle;\n",
       "    }\n",
       "\n",
       "    .dataframe tbody tr th {\n",
       "        vertical-align: top;\n",
       "    }\n",
       "\n",
       "    .dataframe thead th {\n",
       "        text-align: right;\n",
       "    }\n",
       "</style>\n",
       "<table border=\"1\" class=\"dataframe\">\n",
       "  <thead>\n",
       "    <tr style=\"text-align: right;\">\n",
       "      <th></th>\n",
       "      <th>RecordID</th>\n",
       "      <th>AQI</th>\n",
       "      <th>PM10</th>\n",
       "      <th>PM2_5</th>\n",
       "      <th>NO2</th>\n",
       "      <th>SO2</th>\n",
       "      <th>O3</th>\n",
       "      <th>Temperature</th>\n",
       "      <th>Humidity</th>\n",
       "      <th>WindSpeed</th>\n",
       "      <th>RespiratoryCases</th>\n",
       "      <th>CardiovascularCases</th>\n",
       "      <th>HospitalAdmissions</th>\n",
       "      <th>HealthImpactScore</th>\n",
       "      <th>HealthImpactClass</th>\n",
       "    </tr>\n",
       "  </thead>\n",
       "  <tbody>\n",
       "    <tr>\n",
       "      <th>count</th>\n",
       "      <td>5811.000000</td>\n",
       "      <td>5811.000000</td>\n",
       "      <td>5811.000000</td>\n",
       "      <td>5811.000000</td>\n",
       "      <td>5811.000000</td>\n",
       "      <td>5811.000000</td>\n",
       "      <td>5811.000000</td>\n",
       "      <td>5811.000000</td>\n",
       "      <td>5811.000000</td>\n",
       "      <td>5811.000000</td>\n",
       "      <td>5811.000000</td>\n",
       "      <td>5811.000000</td>\n",
       "      <td>5811.000000</td>\n",
       "      <td>5811.000000</td>\n",
       "      <td>5811.000000</td>\n",
       "    </tr>\n",
       "    <tr>\n",
       "      <th>mean</th>\n",
       "      <td>2906.000000</td>\n",
       "      <td>248.438476</td>\n",
       "      <td>148.654997</td>\n",
       "      <td>100.223714</td>\n",
       "      <td>102.293445</td>\n",
       "      <td>49.456838</td>\n",
       "      <td>149.312431</td>\n",
       "      <td>14.975500</td>\n",
       "      <td>54.776853</td>\n",
       "      <td>9.989177</td>\n",
       "      <td>9.974187</td>\n",
       "      <td>4.988986</td>\n",
       "      <td>2.001033</td>\n",
       "      <td>93.785223</td>\n",
       "      <td>0.281191</td>\n",
       "    </tr>\n",
       "    <tr>\n",
       "      <th>std</th>\n",
       "      <td>1677.635538</td>\n",
       "      <td>144.777638</td>\n",
       "      <td>85.698500</td>\n",
       "      <td>58.096612</td>\n",
       "      <td>57.713175</td>\n",
       "      <td>28.530329</td>\n",
       "      <td>86.534240</td>\n",
       "      <td>14.483067</td>\n",
       "      <td>26.020786</td>\n",
       "      <td>5.776950</td>\n",
       "      <td>3.129234</td>\n",
       "      <td>2.216791</td>\n",
       "      <td>1.398794</td>\n",
       "      <td>13.318904</td>\n",
       "      <td>0.714075</td>\n",
       "    </tr>\n",
       "    <tr>\n",
       "      <th>min</th>\n",
       "      <td>1.000000</td>\n",
       "      <td>0.005817</td>\n",
       "      <td>0.015848</td>\n",
       "      <td>0.031549</td>\n",
       "      <td>0.009625</td>\n",
       "      <td>0.011023</td>\n",
       "      <td>0.001661</td>\n",
       "      <td>-9.990998</td>\n",
       "      <td>10.001506</td>\n",
       "      <td>0.002094</td>\n",
       "      <td>1.000000</td>\n",
       "      <td>0.000000</td>\n",
       "      <td>0.000000</td>\n",
       "      <td>22.448488</td>\n",
       "      <td>0.000000</td>\n",
       "    </tr>\n",
       "    <tr>\n",
       "      <th>25%</th>\n",
       "      <td>1453.500000</td>\n",
       "      <td>122.951293</td>\n",
       "      <td>75.374954</td>\n",
       "      <td>49.435171</td>\n",
       "      <td>53.538538</td>\n",
       "      <td>24.887264</td>\n",
       "      <td>73.999665</td>\n",
       "      <td>2.481500</td>\n",
       "      <td>31.995262</td>\n",
       "      <td>4.952343</td>\n",
       "      <td>8.000000</td>\n",
       "      <td>3.000000</td>\n",
       "      <td>1.000000</td>\n",
       "      <td>98.203057</td>\n",
       "      <td>0.000000</td>\n",
       "    </tr>\n",
       "    <tr>\n",
       "      <th>50%</th>\n",
       "      <td>2906.000000</td>\n",
       "      <td>249.127841</td>\n",
       "      <td>147.634997</td>\n",
       "      <td>100.506337</td>\n",
       "      <td>102.987736</td>\n",
       "      <td>49.530165</td>\n",
       "      <td>149.559871</td>\n",
       "      <td>14.942428</td>\n",
       "      <td>54.543904</td>\n",
       "      <td>10.051742</td>\n",
       "      <td>10.000000</td>\n",
       "      <td>5.000000</td>\n",
       "      <td>2.000000</td>\n",
       "      <td>100.000000</td>\n",
       "      <td>0.000000</td>\n",
       "    </tr>\n",
       "    <tr>\n",
       "      <th>75%</th>\n",
       "      <td>4358.500000</td>\n",
       "      <td>373.630668</td>\n",
       "      <td>222.436759</td>\n",
       "      <td>151.340260</td>\n",
       "      <td>151.658516</td>\n",
       "      <td>73.346617</td>\n",
       "      <td>223.380126</td>\n",
       "      <td>27.465374</td>\n",
       "      <td>77.641639</td>\n",
       "      <td>14.971840</td>\n",
       "      <td>12.000000</td>\n",
       "      <td>6.000000</td>\n",
       "      <td>3.000000</td>\n",
       "      <td>100.000000</td>\n",
       "      <td>0.000000</td>\n",
       "    </tr>\n",
       "    <tr>\n",
       "      <th>max</th>\n",
       "      <td>5811.000000</td>\n",
       "      <td>499.858837</td>\n",
       "      <td>299.901962</td>\n",
       "      <td>199.984965</td>\n",
       "      <td>199.980195</td>\n",
       "      <td>99.969561</td>\n",
       "      <td>299.936811</td>\n",
       "      <td>39.963434</td>\n",
       "      <td>99.997493</td>\n",
       "      <td>19.999139</td>\n",
       "      <td>23.000000</td>\n",
       "      <td>14.000000</td>\n",
       "      <td>12.000000</td>\n",
       "      <td>100.000000</td>\n",
       "      <td>4.000000</td>\n",
       "    </tr>\n",
       "  </tbody>\n",
       "</table>\n",
       "</div>"
      ],
      "text/plain": [
       "          RecordID          AQI         PM10        PM2_5          NO2  \\\n",
       "count  5811.000000  5811.000000  5811.000000  5811.000000  5811.000000   \n",
       "mean   2906.000000   248.438476   148.654997   100.223714   102.293445   \n",
       "std    1677.635538   144.777638    85.698500    58.096612    57.713175   \n",
       "min       1.000000     0.005817     0.015848     0.031549     0.009625   \n",
       "25%    1453.500000   122.951293    75.374954    49.435171    53.538538   \n",
       "50%    2906.000000   249.127841   147.634997   100.506337   102.987736   \n",
       "75%    4358.500000   373.630668   222.436759   151.340260   151.658516   \n",
       "max    5811.000000   499.858837   299.901962   199.984965   199.980195   \n",
       "\n",
       "               SO2           O3  Temperature     Humidity    WindSpeed  \\\n",
       "count  5811.000000  5811.000000  5811.000000  5811.000000  5811.000000   \n",
       "mean     49.456838   149.312431    14.975500    54.776853     9.989177   \n",
       "std      28.530329    86.534240    14.483067    26.020786     5.776950   \n",
       "min       0.011023     0.001661    -9.990998    10.001506     0.002094   \n",
       "25%      24.887264    73.999665     2.481500    31.995262     4.952343   \n",
       "50%      49.530165   149.559871    14.942428    54.543904    10.051742   \n",
       "75%      73.346617   223.380126    27.465374    77.641639    14.971840   \n",
       "max      99.969561   299.936811    39.963434    99.997493    19.999139   \n",
       "\n",
       "       RespiratoryCases  CardiovascularCases  HospitalAdmissions  \\\n",
       "count       5811.000000          5811.000000         5811.000000   \n",
       "mean           9.974187             4.988986            2.001033   \n",
       "std            3.129234             2.216791            1.398794   \n",
       "min            1.000000             0.000000            0.000000   \n",
       "25%            8.000000             3.000000            1.000000   \n",
       "50%           10.000000             5.000000            2.000000   \n",
       "75%           12.000000             6.000000            3.000000   \n",
       "max           23.000000            14.000000           12.000000   \n",
       "\n",
       "       HealthImpactScore  HealthImpactClass  \n",
       "count        5811.000000        5811.000000  \n",
       "mean           93.785223           0.281191  \n",
       "std            13.318904           0.714075  \n",
       "min            22.448488           0.000000  \n",
       "25%            98.203057           0.000000  \n",
       "50%           100.000000           0.000000  \n",
       "75%           100.000000           0.000000  \n",
       "max           100.000000           4.000000  "
      ]
     },
     "execution_count": 8,
     "metadata": {},
     "output_type": "execute_result"
    }
   ],
   "source": [
    "df.describe()"
   ]
  },
  {
   "cell_type": "code",
   "execution_count": 9,
   "id": "197ff78b",
   "metadata": {},
   "outputs": [
    {
     "data": {
      "text/html": [
       "<div>\n",
       "<style scoped>\n",
       "    .dataframe tbody tr th:only-of-type {\n",
       "        vertical-align: middle;\n",
       "    }\n",
       "\n",
       "    .dataframe tbody tr th {\n",
       "        vertical-align: top;\n",
       "    }\n",
       "\n",
       "    .dataframe thead th {\n",
       "        text-align: right;\n",
       "    }\n",
       "</style>\n",
       "<table border=\"1\" class=\"dataframe\">\n",
       "  <thead>\n",
       "    <tr style=\"text-align: right;\">\n",
       "      <th></th>\n",
       "      <th>RecordID</th>\n",
       "      <th>AQI</th>\n",
       "      <th>PM10</th>\n",
       "      <th>PM2_5</th>\n",
       "      <th>NO2</th>\n",
       "      <th>SO2</th>\n",
       "      <th>O3</th>\n",
       "      <th>Temperature</th>\n",
       "      <th>Humidity</th>\n",
       "      <th>WindSpeed</th>\n",
       "      <th>RespiratoryCases</th>\n",
       "      <th>CardiovascularCases</th>\n",
       "      <th>HospitalAdmissions</th>\n",
       "      <th>HealthImpactScore</th>\n",
       "    </tr>\n",
       "  </thead>\n",
       "  <tbody>\n",
       "    <tr>\n",
       "      <th>0</th>\n",
       "      <td>1</td>\n",
       "      <td>187.270059</td>\n",
       "      <td>295.853039</td>\n",
       "      <td>13.038560</td>\n",
       "      <td>6.639263</td>\n",
       "      <td>66.161150</td>\n",
       "      <td>54.624280</td>\n",
       "      <td>5.150335</td>\n",
       "      <td>84.424344</td>\n",
       "      <td>6.137755</td>\n",
       "      <td>7</td>\n",
       "      <td>5</td>\n",
       "      <td>1</td>\n",
       "      <td>97.244041</td>\n",
       "    </tr>\n",
       "    <tr>\n",
       "      <th>1</th>\n",
       "      <td>2</td>\n",
       "      <td>475.357153</td>\n",
       "      <td>246.254703</td>\n",
       "      <td>9.984497</td>\n",
       "      <td>16.318326</td>\n",
       "      <td>90.499523</td>\n",
       "      <td>169.621727</td>\n",
       "      <td>1.543378</td>\n",
       "      <td>46.851415</td>\n",
       "      <td>4.521422</td>\n",
       "      <td>10</td>\n",
       "      <td>2</td>\n",
       "      <td>0</td>\n",
       "      <td>100.000000</td>\n",
       "    </tr>\n",
       "    <tr>\n",
       "      <th>2</th>\n",
       "      <td>3</td>\n",
       "      <td>365.996971</td>\n",
       "      <td>84.443191</td>\n",
       "      <td>23.111340</td>\n",
       "      <td>96.317811</td>\n",
       "      <td>17.875850</td>\n",
       "      <td>9.006794</td>\n",
       "      <td>1.169483</td>\n",
       "      <td>17.806977</td>\n",
       "      <td>11.157384</td>\n",
       "      <td>13</td>\n",
       "      <td>3</td>\n",
       "      <td>0</td>\n",
       "      <td>100.000000</td>\n",
       "    </tr>\n",
       "    <tr>\n",
       "      <th>3</th>\n",
       "      <td>4</td>\n",
       "      <td>299.329242</td>\n",
       "      <td>21.020609</td>\n",
       "      <td>14.273403</td>\n",
       "      <td>81.234403</td>\n",
       "      <td>48.323616</td>\n",
       "      <td>93.161033</td>\n",
       "      <td>21.925276</td>\n",
       "      <td>99.473373</td>\n",
       "      <td>15.302500</td>\n",
       "      <td>8</td>\n",
       "      <td>8</td>\n",
       "      <td>1</td>\n",
       "      <td>100.000000</td>\n",
       "    </tr>\n",
       "    <tr>\n",
       "      <th>4</th>\n",
       "      <td>5</td>\n",
       "      <td>78.009320</td>\n",
       "      <td>16.987667</td>\n",
       "      <td>152.111623</td>\n",
       "      <td>121.235461</td>\n",
       "      <td>90.866167</td>\n",
       "      <td>241.795138</td>\n",
       "      <td>9.217517</td>\n",
       "      <td>24.906837</td>\n",
       "      <td>14.534733</td>\n",
       "      <td>9</td>\n",
       "      <td>0</td>\n",
       "      <td>1</td>\n",
       "      <td>95.182643</td>\n",
       "    </tr>\n",
       "    <tr>\n",
       "      <th>...</th>\n",
       "      <td>...</td>\n",
       "      <td>...</td>\n",
       "      <td>...</td>\n",
       "      <td>...</td>\n",
       "      <td>...</td>\n",
       "      <td>...</td>\n",
       "      <td>...</td>\n",
       "      <td>...</td>\n",
       "      <td>...</td>\n",
       "      <td>...</td>\n",
       "      <td>...</td>\n",
       "      <td>...</td>\n",
       "      <td>...</td>\n",
       "      <td>...</td>\n",
       "    </tr>\n",
       "    <tr>\n",
       "      <th>5806</th>\n",
       "      <td>5807</td>\n",
       "      <td>171.112762</td>\n",
       "      <td>11.246387</td>\n",
       "      <td>197.984629</td>\n",
       "      <td>158.643107</td>\n",
       "      <td>17.743678</td>\n",
       "      <td>280.370909</td>\n",
       "      <td>37.359323</td>\n",
       "      <td>61.707640</td>\n",
       "      <td>4.097129</td>\n",
       "      <td>14</td>\n",
       "      <td>5</td>\n",
       "      <td>2</td>\n",
       "      <td>100.000000</td>\n",
       "    </tr>\n",
       "    <tr>\n",
       "      <th>5807</th>\n",
       "      <td>5808</td>\n",
       "      <td>490.691667</td>\n",
       "      <td>275.340762</td>\n",
       "      <td>55.774170</td>\n",
       "      <td>132.336871</td>\n",
       "      <td>29.334724</td>\n",
       "      <td>108.043492</td>\n",
       "      <td>34.532542</td>\n",
       "      <td>21.528555</td>\n",
       "      <td>6.682549</td>\n",
       "      <td>8</td>\n",
       "      <td>6</td>\n",
       "      <td>2</td>\n",
       "      <td>100.000000</td>\n",
       "    </tr>\n",
       "    <tr>\n",
       "      <th>5808</th>\n",
       "      <td>5809</td>\n",
       "      <td>314.841798</td>\n",
       "      <td>41.892699</td>\n",
       "      <td>184.708551</td>\n",
       "      <td>82.105823</td>\n",
       "      <td>68.334578</td>\n",
       "      <td>105.568504</td>\n",
       "      <td>22.975564</td>\n",
       "      <td>92.725625</td>\n",
       "      <td>2.889698</td>\n",
       "      <td>12</td>\n",
       "      <td>2</td>\n",
       "      <td>3</td>\n",
       "      <td>100.000000</td>\n",
       "    </tr>\n",
       "    <tr>\n",
       "      <th>5809</th>\n",
       "      <td>5810</td>\n",
       "      <td>208.080473</td>\n",
       "      <td>165.533785</td>\n",
       "      <td>199.177255</td>\n",
       "      <td>100.796385</td>\n",
       "      <td>87.586488</td>\n",
       "      <td>166.469537</td>\n",
       "      <td>36.090620</td>\n",
       "      <td>25.836286</td>\n",
       "      <td>10.722393</td>\n",
       "      <td>6</td>\n",
       "      <td>2</td>\n",
       "      <td>3</td>\n",
       "      <td>100.000000</td>\n",
       "    </tr>\n",
       "    <tr>\n",
       "      <th>5810</th>\n",
       "      <td>5811</td>\n",
       "      <td>83.269257</td>\n",
       "      <td>82.216262</td>\n",
       "      <td>119.968244</td>\n",
       "      <td>193.440691</td>\n",
       "      <td>79.849177</td>\n",
       "      <td>28.681885</td>\n",
       "      <td>18.239090</td>\n",
       "      <td>77.096194</td>\n",
       "      <td>16.410320</td>\n",
       "      <td>14</td>\n",
       "      <td>2</td>\n",
       "      <td>2</td>\n",
       "      <td>81.668298</td>\n",
       "    </tr>\n",
       "  </tbody>\n",
       "</table>\n",
       "<p>5811 rows × 14 columns</p>\n",
       "</div>"
      ],
      "text/plain": [
       "      RecordID         AQI        PM10       PM2_5         NO2        SO2  \\\n",
       "0            1  187.270059  295.853039   13.038560    6.639263  66.161150   \n",
       "1            2  475.357153  246.254703    9.984497   16.318326  90.499523   \n",
       "2            3  365.996971   84.443191   23.111340   96.317811  17.875850   \n",
       "3            4  299.329242   21.020609   14.273403   81.234403  48.323616   \n",
       "4            5   78.009320   16.987667  152.111623  121.235461  90.866167   \n",
       "...        ...         ...         ...         ...         ...        ...   \n",
       "5806      5807  171.112762   11.246387  197.984629  158.643107  17.743678   \n",
       "5807      5808  490.691667  275.340762   55.774170  132.336871  29.334724   \n",
       "5808      5809  314.841798   41.892699  184.708551   82.105823  68.334578   \n",
       "5809      5810  208.080473  165.533785  199.177255  100.796385  87.586488   \n",
       "5810      5811   83.269257   82.216262  119.968244  193.440691  79.849177   \n",
       "\n",
       "              O3  Temperature   Humidity  WindSpeed  RespiratoryCases  \\\n",
       "0      54.624280     5.150335  84.424344   6.137755                 7   \n",
       "1     169.621727     1.543378  46.851415   4.521422                10   \n",
       "2       9.006794     1.169483  17.806977  11.157384                13   \n",
       "3      93.161033    21.925276  99.473373  15.302500                 8   \n",
       "4     241.795138     9.217517  24.906837  14.534733                 9   \n",
       "...          ...          ...        ...        ...               ...   \n",
       "5806  280.370909    37.359323  61.707640   4.097129                14   \n",
       "5807  108.043492    34.532542  21.528555   6.682549                 8   \n",
       "5808  105.568504    22.975564  92.725625   2.889698                12   \n",
       "5809  166.469537    36.090620  25.836286  10.722393                 6   \n",
       "5810   28.681885    18.239090  77.096194  16.410320                14   \n",
       "\n",
       "      CardiovascularCases  HospitalAdmissions  HealthImpactScore  \n",
       "0                       5                   1          97.244041  \n",
       "1                       2                   0         100.000000  \n",
       "2                       3                   0         100.000000  \n",
       "3                       8                   1         100.000000  \n",
       "4                       0                   1          95.182643  \n",
       "...                   ...                 ...                ...  \n",
       "5806                    5                   2         100.000000  \n",
       "5807                    6                   2         100.000000  \n",
       "5808                    2                   3         100.000000  \n",
       "5809                    2                   3         100.000000  \n",
       "5810                    2                   2          81.668298  \n",
       "\n",
       "[5811 rows x 14 columns]"
      ]
     },
     "execution_count": 9,
     "metadata": {},
     "output_type": "execute_result"
    }
   ],
   "source": [
    "X = df.drop(columns=['HealthImpactClass'])\n",
    "Y = df['HealthImpactClass']\n",
    "X"
   ]
  },
  {
   "cell_type": "code",
   "execution_count": 10,
   "id": "efd4b85f",
   "metadata": {},
   "outputs": [
    {
     "data": {
      "text/plain": [
       "0       0\n",
       "1       0\n",
       "2       0\n",
       "3       0\n",
       "4       0\n",
       "       ..\n",
       "5806    4\n",
       "5807    3\n",
       "5808    1\n",
       "5809    4\n",
       "5810    0\n",
       "Name: HealthImpactClass, Length: 5811, dtype: int64"
      ]
     },
     "execution_count": 10,
     "metadata": {},
     "output_type": "execute_result"
    }
   ],
   "source": [
    "Y"
   ]
  },
  {
   "cell_type": "code",
   "execution_count": 11,
   "id": "d9de4d00",
   "metadata": {},
   "outputs": [
    {
     "data": {
      "text/plain": [
       "((5811, 14), (5811,))"
      ]
     },
     "execution_count": 11,
     "metadata": {},
     "output_type": "execute_result"
    }
   ],
   "source": [
    "X.shape,Y.shape"
   ]
  },
  {
   "cell_type": "code",
   "execution_count": 12,
   "id": "38382613",
   "metadata": {},
   "outputs": [],
   "source": [
    "from sklearn.model_selection import train_test_split\n",
    "X_train,X_test,Y_train,Y_test = train_test_split(X,Y,test_size=0.2,random_state=0)"
   ]
  },
  {
   "cell_type": "code",
   "execution_count": 13,
   "id": "95108728",
   "metadata": {},
   "outputs": [
    {
     "data": {
      "text/plain": [
       "((4648, 14), (1163, 14), (4648,), (1163,))"
      ]
     },
     "execution_count": 13,
     "metadata": {},
     "output_type": "execute_result"
    }
   ],
   "source": [
    "X_train.shape,X_test.shape,Y_train.shape,Y_test.shape"
   ]
  },
  {
   "cell_type": "code",
   "execution_count": 14,
   "id": "d2e6c84e",
   "metadata": {},
   "outputs": [
    {
     "data": {
      "text/plain": [
       "(0.7998623300636724,\n",
       " 0.20013766993632764,\n",
       " 0.7998623300636724,\n",
       " 0.20013766993632764)"
      ]
     },
     "execution_count": 14,
     "metadata": {},
     "output_type": "execute_result"
    }
   ],
   "source": [
    "X_train.shape[0] / X.shape[0],X_test.shape[0] / X.shape[0],Y_train.shape[0]/Y.shape[0],Y_test.shape[0]/Y.shape[0]"
   ]
  },
  {
   "cell_type": "code",
   "execution_count": 15,
   "id": "fdc88101",
   "metadata": {},
   "outputs": [],
   "source": [
    "from sklearn.linear_model import LogisticRegression"
   ]
  },
  {
   "cell_type": "code",
   "execution_count": 16,
   "id": "6956d8aa",
   "metadata": {},
   "outputs": [],
   "source": [
    "model = LogisticRegression(solver='liblinear', max_iter = 1000)"
   ]
  },
  {
   "cell_type": "code",
   "execution_count": 17,
   "id": "ce88e244",
   "metadata": {},
   "outputs": [],
   "source": [
    "mymodel = LogisticRegression()"
   ]
  },
  {
   "cell_type": "code",
   "execution_count": 18,
   "id": "d1533c71",
   "metadata": {},
   "outputs": [
    {
     "data": {
      "text/html": [
       "<style>#sk-container-id-1 {color: black;background-color: white;}#sk-container-id-1 pre{padding: 0;}#sk-container-id-1 div.sk-toggleable {background-color: white;}#sk-container-id-1 label.sk-toggleable__label {cursor: pointer;display: block;width: 100%;margin-bottom: 0;padding: 0.3em;box-sizing: border-box;text-align: center;}#sk-container-id-1 label.sk-toggleable__label-arrow:before {content: \"▸\";float: left;margin-right: 0.25em;color: #696969;}#sk-container-id-1 label.sk-toggleable__label-arrow:hover:before {color: black;}#sk-container-id-1 div.sk-estimator:hover label.sk-toggleable__label-arrow:before {color: black;}#sk-container-id-1 div.sk-toggleable__content {max-height: 0;max-width: 0;overflow: hidden;text-align: left;background-color: #f0f8ff;}#sk-container-id-1 div.sk-toggleable__content pre {margin: 0.2em;color: black;border-radius: 0.25em;background-color: #f0f8ff;}#sk-container-id-1 input.sk-toggleable__control:checked~div.sk-toggleable__content {max-height: 200px;max-width: 100%;overflow: auto;}#sk-container-id-1 input.sk-toggleable__control:checked~label.sk-toggleable__label-arrow:before {content: \"▾\";}#sk-container-id-1 div.sk-estimator input.sk-toggleable__control:checked~label.sk-toggleable__label {background-color: #d4ebff;}#sk-container-id-1 div.sk-label input.sk-toggleable__control:checked~label.sk-toggleable__label {background-color: #d4ebff;}#sk-container-id-1 input.sk-hidden--visually {border: 0;clip: rect(1px 1px 1px 1px);clip: rect(1px, 1px, 1px, 1px);height: 1px;margin: -1px;overflow: hidden;padding: 0;position: absolute;width: 1px;}#sk-container-id-1 div.sk-estimator {font-family: monospace;background-color: #f0f8ff;border: 1px dotted black;border-radius: 0.25em;box-sizing: border-box;margin-bottom: 0.5em;}#sk-container-id-1 div.sk-estimator:hover {background-color: #d4ebff;}#sk-container-id-1 div.sk-parallel-item::after {content: \"\";width: 100%;border-bottom: 1px solid gray;flex-grow: 1;}#sk-container-id-1 div.sk-label:hover label.sk-toggleable__label {background-color: #d4ebff;}#sk-container-id-1 div.sk-serial::before {content: \"\";position: absolute;border-left: 1px solid gray;box-sizing: border-box;top: 0;bottom: 0;left: 50%;z-index: 0;}#sk-container-id-1 div.sk-serial {display: flex;flex-direction: column;align-items: center;background-color: white;padding-right: 0.2em;padding-left: 0.2em;position: relative;}#sk-container-id-1 div.sk-item {position: relative;z-index: 1;}#sk-container-id-1 div.sk-parallel {display: flex;align-items: stretch;justify-content: center;background-color: white;position: relative;}#sk-container-id-1 div.sk-item::before, #sk-container-id-1 div.sk-parallel-item::before {content: \"\";position: absolute;border-left: 1px solid gray;box-sizing: border-box;top: 0;bottom: 0;left: 50%;z-index: -1;}#sk-container-id-1 div.sk-parallel-item {display: flex;flex-direction: column;z-index: 1;position: relative;background-color: white;}#sk-container-id-1 div.sk-parallel-item:first-child::after {align-self: flex-end;width: 50%;}#sk-container-id-1 div.sk-parallel-item:last-child::after {align-self: flex-start;width: 50%;}#sk-container-id-1 div.sk-parallel-item:only-child::after {width: 0;}#sk-container-id-1 div.sk-dashed-wrapped {border: 1px dashed gray;margin: 0 0.4em 0.5em 0.4em;box-sizing: border-box;padding-bottom: 0.4em;background-color: white;}#sk-container-id-1 div.sk-label label {font-family: monospace;font-weight: bold;display: inline-block;line-height: 1.2em;}#sk-container-id-1 div.sk-label-container {text-align: center;}#sk-container-id-1 div.sk-container {/* jupyter's `normalize.less` sets `[hidden] { display: none; }` but bootstrap.min.css set `[hidden] { display: none !important; }` so we also need the `!important` here to be able to override the default hidden behavior on the sphinx rendered scikit-learn.org. See: https://github.com/scikit-learn/scikit-learn/issues/21755 */display: inline-block !important;position: relative;}#sk-container-id-1 div.sk-text-repr-fallback {display: none;}</style><div id=\"sk-container-id-1\" class=\"sk-top-container\"><div class=\"sk-text-repr-fallback\"><pre>LogisticRegression(max_iter=1000, solver=&#x27;liblinear&#x27;)</pre><b>In a Jupyter environment, please rerun this cell to show the HTML representation or trust the notebook. <br />On GitHub, the HTML representation is unable to render, please try loading this page with nbviewer.org.</b></div><div class=\"sk-container\" hidden><div class=\"sk-item\"><div class=\"sk-estimator sk-toggleable\"><input class=\"sk-toggleable__control sk-hidden--visually\" id=\"sk-estimator-id-1\" type=\"checkbox\" checked><label for=\"sk-estimator-id-1\" class=\"sk-toggleable__label sk-toggleable__label-arrow\">LogisticRegression</label><div class=\"sk-toggleable__content\"><pre>LogisticRegression(max_iter=1000, solver=&#x27;liblinear&#x27;)</pre></div></div></div></div></div>"
      ],
      "text/plain": [
       "LogisticRegression(max_iter=1000, solver='liblinear')"
      ]
     },
     "execution_count": 18,
     "metadata": {},
     "output_type": "execute_result"
    }
   ],
   "source": [
    "model.fit(X_train,Y_train)"
   ]
  },
  {
   "cell_type": "code",
   "execution_count": 19,
   "id": "36f7703b",
   "metadata": {},
   "outputs": [
    {
     "data": {
      "text/plain": [
       "array([[-6.46229268e-04,  3.96662204e-04, -4.35511908e-04,\n",
       "        -2.27790104e-04, -6.77176172e-04, -1.86947262e-03,\n",
       "        -3.97824696e-04,  3.91164835e-04, -4.47566538e-03,\n",
       "         4.61821275e-03, -6.20747628e-02, -5.71748986e-02,\n",
       "        -7.60196353e-02,  1.79187400e-01],\n",
       "       [ 6.71246969e-05, -1.55706889e-02, -3.57477079e-03,\n",
       "        -5.99215464e-03, -3.60126048e-03, -1.82889825e-04,\n",
       "        -3.45308942e-03,  1.98694139e-03,  7.23906415e-03,\n",
       "         5.45681798e-03,  5.23324845e-02,  3.89021067e-02,\n",
       "         7.27458667e-02,  5.61272489e-03],\n",
       "       [ 4.75734914e-04,  3.84796219e-04,  9.56285918e-04,\n",
       "        -1.94340186e-03,  2.44815208e-03,  5.64683068e-03,\n",
       "         1.05416639e-03,  1.82723705e-02,  1.44524397e-03,\n",
       "         3.06808960e-02,  1.24407458e-01,  1.21210148e-01,\n",
       "         2.18099589e-02, -9.80061857e-02],\n",
       "       [ 8.66238879e-04,  5.41396686e-03, -1.75683135e-03,\n",
       "        -3.07509892e-03, -9.37879444e-04, -3.38302229e-03,\n",
       "        -5.97553076e-04, -1.99208460e-02, -2.96918080e-03,\n",
       "        -4.02244130e-03,  2.20408244e-03,  2.88135843e-02,\n",
       "         2.04500892e-01, -9.48934040e-02],\n",
       "       [ 1.64232651e-03,  3.43425978e-03,  2.42659527e-03,\n",
       "         2.00038508e-04, -4.08289631e-03,  1.67230808e-03,\n",
       "        -9.25490190e-04, -1.09236720e-02, -7.99947412e-03,\n",
       "        -6.74093015e-02, -4.61633497e-02, -1.02312302e-01,\n",
       "        -1.18642831e-01, -6.13539734e-02]])"
      ]
     },
     "execution_count": 19,
     "metadata": {},
     "output_type": "execute_result"
    }
   ],
   "source": [
    "model.coef_"
   ]
  },
  {
   "cell_type": "code",
   "execution_count": 20,
   "id": "202c04e3",
   "metadata": {},
   "outputs": [
    {
     "data": {
      "text/plain": [
       "array([-1.09150944e+01,  5.31769072e-02,  1.51459474e-01, -7.54845457e-03,\n",
       "       -4.59688172e+00])"
      ]
     },
     "execution_count": 20,
     "metadata": {},
     "output_type": "execute_result"
    }
   ],
   "source": [
    "model.intercept_"
   ]
  },
  {
   "cell_type": "code",
   "execution_count": 21,
   "id": "36346032",
   "metadata": {},
   "outputs": [],
   "source": [
    "probabilities = model.predict_proba(X_train).round(5)"
   ]
  },
  {
   "cell_type": "code",
   "execution_count": 22,
   "id": "1b3a21d1",
   "metadata": {},
   "outputs": [
    {
     "data": {
      "text/plain": [
       "(4648, 5)"
      ]
     },
     "execution_count": 22,
     "metadata": {},
     "output_type": "execute_result"
    }
   ],
   "source": [
    "probabilities.shape"
   ]
  },
  {
   "cell_type": "code",
   "execution_count": 23,
   "id": "59c14ff2",
   "metadata": {},
   "outputs": [
    {
     "data": {
      "text/plain": [
       "array([0, 1, 0, ..., 0, 0, 0])"
      ]
     },
     "execution_count": 23,
     "metadata": {},
     "output_type": "execute_result"
    }
   ],
   "source": [
    "(probabilities[:,1] > 0.5)*1"
   ]
  },
  {
   "cell_type": "code",
   "execution_count": 24,
   "id": "41003502",
   "metadata": {},
   "outputs": [
    {
     "data": {
      "text/plain": [
       "array([0, 1, 0, ..., 0, 0, 2], dtype=int64)"
      ]
     },
     "execution_count": 24,
     "metadata": {},
     "output_type": "execute_result"
    }
   ],
   "source": [
    "model.predict(X_train)"
   ]
  },
  {
   "cell_type": "code",
   "execution_count": 25,
   "id": "59138e3e",
   "metadata": {},
   "outputs": [],
   "source": [
    "from sklearn.metrics import accuracy_score, confusion_matrix, classification_report"
   ]
  },
  {
   "cell_type": "code",
   "execution_count": 26,
   "id": "4aaa1ef9",
   "metadata": {},
   "outputs": [
    {
     "data": {
      "text/plain": [
       "0.8898450946643718"
      ]
     },
     "execution_count": 26,
     "metadata": {},
     "output_type": "execute_result"
    }
   ],
   "source": [
    "accuracy_score(Y_train,model.predict(X_train))"
   ]
  },
  {
   "cell_type": "code",
   "execution_count": 27,
   "id": "c773fd57",
   "metadata": {},
   "outputs": [
    {
     "data": {
      "text/plain": [
       "0.9002579535683577"
      ]
     },
     "execution_count": 27,
     "metadata": {},
     "output_type": "execute_result"
    }
   ],
   "source": [
    "accuracy_score(Y_test,model.predict(X_test))"
   ]
  },
  {
   "cell_type": "code",
   "execution_count": 28,
   "id": "5a87f3e8",
   "metadata": {},
   "outputs": [
    {
     "data": {
      "text/plain": [
       "array([[3817,   21,    4,    0,    0],\n",
       "       [ 204,  254,   13,    0,    1],\n",
       "       [  46,  109,   63,    0,    0],\n",
       "       [  34,   13,   20,    1,    0],\n",
       "       [  38,    6,    3,    0,    1]], dtype=int64)"
      ]
     },
     "execution_count": 28,
     "metadata": {},
     "output_type": "execute_result"
    }
   ],
   "source": [
    "confusion_matrix(Y_train,model.predict(X_train))"
   ]
  },
  {
   "cell_type": "code",
   "execution_count": 29,
   "id": "8991baeb",
   "metadata": {},
   "outputs": [
    {
     "data": {
      "text/plain": [
       "array([[961,   4,   1,   0,   0],\n",
       "       [ 38,  61,   8,   0,   0],\n",
       "       [  8,  22,  25,   0,   0],\n",
       "       [ 11,   7,   9,   0,   0],\n",
       "       [  7,   0,   1,   0,   0]], dtype=int64)"
      ]
     },
     "execution_count": 29,
     "metadata": {},
     "output_type": "execute_result"
    }
   ],
   "source": [
    "confusion_matrix(Y_test,model.predict(X_test))"
   ]
  },
  {
   "cell_type": "code",
   "execution_count": 30,
   "id": "1f044032",
   "metadata": {},
   "outputs": [
    {
     "name": "stdout",
     "output_type": "stream",
     "text": [
      "              precision    recall  f1-score   support\n",
      "\n",
      "           0       0.92      0.99      0.96      3842\n",
      "           1       0.63      0.54      0.58       472\n",
      "           2       0.61      0.29      0.39       218\n",
      "           3       1.00      0.01      0.03        68\n",
      "           4       0.50      0.02      0.04        48\n",
      "\n",
      "    accuracy                           0.89      4648\n",
      "   macro avg       0.73      0.37      0.40      4648\n",
      "weighted avg       0.87      0.89      0.87      4648\n",
      "\n"
     ]
    }
   ],
   "source": [
    "print(classification_report(Y_train,model.predict(X_train)))"
   ]
  },
  {
   "cell_type": "code",
   "execution_count": 31,
   "id": "d86e9b5f",
   "metadata": {},
   "outputs": [
    {
     "name": "stdout",
     "output_type": "stream",
     "text": [
      "              precision    recall  f1-score   support\n",
      "\n",
      "           0       0.94      0.99      0.97       966\n",
      "           1       0.65      0.57      0.61       107\n",
      "           2       0.57      0.45      0.51        55\n",
      "           3       0.00      0.00      0.00        27\n",
      "           4       0.00      0.00      0.00         8\n",
      "\n",
      "    accuracy                           0.90      1163\n",
      "   macro avg       0.43      0.40      0.42      1163\n",
      "weighted avg       0.87      0.90      0.88      1163\n",
      "\n"
     ]
    },
    {
     "name": "stderr",
     "output_type": "stream",
     "text": [
      "C:\\Users\\DELL\\anaconda3\\Lib\\site-packages\\sklearn\\metrics\\_classification.py:1344: UndefinedMetricWarning: Precision and F-score are ill-defined and being set to 0.0 in labels with no predicted samples. Use `zero_division` parameter to control this behavior.\n",
      "  _warn_prf(average, modifier, msg_start, len(result))\n",
      "C:\\Users\\DELL\\anaconda3\\Lib\\site-packages\\sklearn\\metrics\\_classification.py:1344: UndefinedMetricWarning: Precision and F-score are ill-defined and being set to 0.0 in labels with no predicted samples. Use `zero_division` parameter to control this behavior.\n",
      "  _warn_prf(average, modifier, msg_start, len(result))\n",
      "C:\\Users\\DELL\\anaconda3\\Lib\\site-packages\\sklearn\\metrics\\_classification.py:1344: UndefinedMetricWarning: Precision and F-score are ill-defined and being set to 0.0 in labels with no predicted samples. Use `zero_division` parameter to control this behavior.\n",
      "  _warn_prf(average, modifier, msg_start, len(result))\n"
     ]
    }
   ],
   "source": [
    "print(classification_report(Y_test,model.predict(X_test)))"
   ]
  },
  {
   "cell_type": "code",
   "execution_count": null,
   "id": "ca035779",
   "metadata": {},
   "outputs": [],
   "source": [
    "CONCLUSION:-"
   ]
  },
  {
   "cell_type": "markdown",
   "id": "e404abb2",
   "metadata": {},
   "source": [
    "################################################################DONE###############################################"
   ]
  }
 ],
 "metadata": {
  "kernelspec": {
   "display_name": "Python 3 (ipykernel)",
   "language": "python",
   "name": "python3"
  },
  "language_info": {
   "codemirror_mode": {
    "name": "ipython",
    "version": 3
   },
   "file_extension": ".py",
   "mimetype": "text/x-python",
   "name": "python",
   "nbconvert_exporter": "python",
   "pygments_lexer": "ipython3",
   "version": "3.11.7"
  }
 },
 "nbformat": 4,
 "nbformat_minor": 5
}
